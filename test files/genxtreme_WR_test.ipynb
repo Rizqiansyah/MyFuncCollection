{
 "cells": [
  {
   "cell_type": "code",
   "execution_count": 1,
   "id": "887a0bc3-ed92-4e37-8135-a17a78c7ee04",
   "metadata": {
    "tags": []
   },
   "outputs": [],
   "source": [
    "import numpy as np\n",
    "import pymc as pm\n",
    "import arviz as az\n",
    "import matplotlib.pyplot as plt\n",
    "from MyFuncCollection import * #File containing my functions\n",
    "import pymc_experimental as pmx\n",
    "from scipy import stats"
   ]
  },
  {
   "cell_type": "code",
   "execution_count": 2,
   "id": "82787907-7e16-402b-b7af-43d058aeb63d",
   "metadata": {},
   "outputs": [],
   "source": [
    "gev_WR_dist = genextreme_WR(E = 0.0, V = 1.0, z_b = 3.0)"
   ]
  },
  {
   "cell_type": "code",
   "execution_count": 3,
   "id": "c79ec2f0-9439-40ee-aba5-1fe65a15af49",
   "metadata": {},
   "outputs": [
    {
     "data": {
      "text/plain": [
       "array([-2.85626526, -0.20141086,  1.12333706,  0.07865229, -2.94294239,\n",
       "        1.42112462, -1.32478098, -1.00800631, -3.25427565, -3.56820745,\n",
       "        0.40723834, -5.97159449, -6.41711277, -6.61048961, -3.51823742,\n",
       "       -2.61018878, -0.404505  , -3.64575349, -1.83204835, -6.01781061,\n",
       "       -1.74623474, -0.49096024, -5.33790933, -5.10527553, -2.64747895,\n",
       "       -0.68756187, -3.33737176, -4.7102837 , -2.8038754 , -3.97978324,\n",
       "       -8.17068451, -6.41158791, -4.52893058, -2.42702026, -3.49452794,\n",
       "       -0.27339821, -1.15105632, -4.85202926, -7.15545099, -3.77738426,\n",
       "       -2.24600975, -5.33048344, -3.86393489, -2.44878522, -4.93018077,\n",
       "       -0.39563479, -1.89557906, -4.11955041, -6.13689959, -4.15110818,\n",
       "       -1.79688489, -4.29635906, -4.59244872, -1.80549368, -4.10974265,\n",
       "       -3.4160684 , -6.2903931 , -4.80640148, -0.11589314, -2.98223652,\n",
       "       -3.75160664,  1.5068241 , -5.44094823, -2.08986453, -3.19241739,\n",
       "       -4.71318629, -0.87121319, -2.992135  , -1.65194688, -3.01594639,\n",
       "       -4.649315  , -6.22401923, -1.98590143,  0.12819794, -5.04029015,\n",
       "       -4.38895136, -3.93319138, -2.22670684, -4.50124755, -0.60689524,\n",
       "       -0.80622964, -3.75202905, -2.84692809, -4.29437597, -2.94152069,\n",
       "       -5.09253584, -4.03076716, -3.67277499, -1.46143898, -4.81955552,\n",
       "       -2.41240831, -3.8203869 , -0.90629438, -2.56947213, -0.38201724,\n",
       "       -0.77330926, -0.8517385 , -6.9639065 , -3.77311142, -4.28469826])"
      ]
     },
     "execution_count": 3,
     "metadata": {},
     "output_type": "execute_result"
    }
   ],
   "source": [
    "gev_WR_dist.rvs(N=0.1, size = 100)"
   ]
  },
  {
   "cell_type": "code",
   "execution_count": 4,
   "id": "b5b85aeb-acd4-4d65-a457-a5b62c257d51",
   "metadata": {},
   "outputs": [],
   "source": [
    "genmaxima_dist = genmaxima(N=1, parent=gev_WR_dist)"
   ]
  },
  {
   "cell_type": "code",
   "execution_count": 5,
   "id": "2424d186-d6b5-4909-8659-92b2420ff047",
   "metadata": {},
   "outputs": [],
   "source": [
    "genmaxima_dist.set_N(1e6)"
   ]
  },
  {
   "cell_type": "code",
   "execution_count": 6,
   "id": "5dc07613-ed08-4974-ba2f-bac9c8177160",
   "metadata": {},
   "outputs": [
    {
     "name": "stdout",
     "output_type": "stream",
     "text": [
      "Warning: returned GEV distribution assumes 1) Convergence, 2) Weibull domain of attraction\n",
      "It is your responsibility to check both of these assumptions\n"
     ]
    }
   ],
   "source": [
    "equiv_dist = genmaxima_dist.get_genextreme_WR_dist()"
   ]
  },
  {
   "cell_type": "code",
   "execution_count": 7,
   "id": "ca5689a8-b713-4676-a8ce-be0350d1807f",
   "metadata": {},
   "outputs": [
    {
     "name": "stdout",
     "output_type": "stream",
     "text": [
      "Parameter from genmaxima      = (2.9936913555301636, 0.0019096669260014855, -0.30270637933905653)\n",
      "Parameter from genxtreme_WR   = (2.993691366004978, 0.001909667493590463, -0.3027069719209043)\n",
      "Parameter from converted dist = (2.993691366000555, 0.0019096674942713212, -0.3027069718166136)\n"
     ]
    }
   ],
   "source": [
    "N = 1e9\n",
    "genmaxima_dist.set_N(N)\n",
    "genmaxima_param = genmaxima_dist.get_genextreme_parameter()\n",
    "gev_WR_param = gev_WR_dist.get_og_parameter(N=N)\n",
    "equiv_param = equiv_dist.get_og_parameter(N/1e6)\n",
    "print(\"Parameter from genmaxima      =\" , genmaxima_param)\n",
    "print(\"Parameter from genxtreme_WR   =\" , gev_WR_param)\n",
    "print(\"Parameter from converted dist =\" , equiv_param)"
   ]
  },
  {
   "cell_type": "code",
   "execution_count": null,
   "id": "d1b8acb4-7d35-4648-b39c-0ca7f38a0846",
   "metadata": {},
   "outputs": [
    {
     "name": "stderr",
     "output_type": "stream",
     "text": [
      "/home/default/PhD/pyMC GEV GPU/MyFuncCollection.py:360: IntegrationWarning: The occurrence of roundoff error is detected, which prevents \n",
      "  the requested tolerance from being achieved.  The error may be \n",
      "  underestimated.\n",
      "  return integrate.quad(func = xk_fx, a = integral_lb, b = integral_ub, **integral_kwargs)[0]\n"
     ]
    }
   ],
   "source": [
    "N = [1e5, 1e6, 1e7, 1e8, 1e9, 1e10, 1e11, 1e12]\n",
    "z_b_gm = np.zeros(len(N))\n",
    "mean_gm = np.zeros(len(N))\n",
    "std_gm = np.zeros(len(N))\n",
    "z_b_gev = np.zeros(len(N))\n",
    "mean_gev = np.zeros(len(N))\n",
    "std_gev = np.zeros(len(N))\n",
    "ξ_gev = np.zeros(len(N))\n",
    "ξ_gm = np.zeros(len(N))\n",
    "\n",
    "for i,n in enumerate(N):\n",
    "    genmaxima_dist.set_N(n)\n",
    "    z_b_gm[i] = genmaxima_dist.support()[1]\n",
    "    mean_gm[i] = genmaxima_dist.mean()\n",
    "    std_gm[i] = genmaxima_dist.std()\n",
    "    ξ_gm[i] = genmaxima_dist.get_genextreme_parameter()[2]\n",
    "    z_b_gev[i] = gev_WR_dist.support()[1]\n",
    "    mean_gev[i] = gev_WR_dist.mean(n)\n",
    "    std_gev[i] = gev_WR_dist.std(n)\n",
    "    ξ_gev[i] = gev_WR_dist.get_og_parameter(N=n)[2]"
   ]
  },
  {
   "cell_type": "code",
   "execution_count": null,
   "id": "b4fc9184-b85f-4eb4-aeed-761b37b2ad66",
   "metadata": {},
   "outputs": [],
   "source": [
    "mean_gm-mean_gev"
   ]
  },
  {
   "cell_type": "code",
   "execution_count": null,
   "id": "b9927d67-1614-40f6-8e03-8cdbc107d082",
   "metadata": {},
   "outputs": [],
   "source": [
    "fig,ax = plt.subplots()\n",
    "ax.plot(N, (z_b_gm - mean_gm)/std_gm)\n",
    "ax.set_xscale(\"log\")\n",
    "ax.set_xlabel(\"N\")\n",
    "ax.set_ylabel(\"z_bc\");\n",
    "#ax.set_ylim([3, 3.1])\n",
    "\n",
    "ax2=ax.twinx()\n",
    "ax2.plot(N, ξ_gev, label = \"ξ_gev\", color='red')\n",
    "ax2.plot(N, ξ_gm, label = \"ξ_gm\", color='green')\n",
    "ax2.set_ylabel(\"ξ estimate\")\n",
    "\n",
    "plt.legend()"
   ]
  },
  {
   "cell_type": "code",
   "execution_count": null,
   "id": "25a7fae4-bcbc-400b-9028-3085714d28fd",
   "metadata": {},
   "outputs": [],
   "source": [
    "z_bc = (z_b_gm - mean_gm)/std_gm\n",
    "xi_from_zbc(z_bc, init_guess(z_bc), tol=1e-14, maxiter=1000)"
   ]
  },
  {
   "cell_type": "code",
   "execution_count": null,
   "id": "5dd368d3-04c4-4f2b-ba4f-0b08d610e0c3",
   "metadata": {},
   "outputs": [],
   "source": [
    "z_bc"
   ]
  },
  {
   "cell_type": "code",
   "execution_count": null,
   "id": "63cd1ba7-5921-45a7-82c5-919d220e6b96",
   "metadata": {},
   "outputs": [],
   "source": [
    "N = 1e12\n",
    "x=np.linspace(2.995, 3.0,100000)\n",
    "genmaxima_dist.set_N(N)\n",
    "plt.plot(x, genmaxima_dist.pdf(x) - gev_WR_dist.pdf(x, N=N))\n",
    "plt.figure()\n",
    "plt.plot(x, genmaxima_dist.cdf(x) - gev_WR_dist.cdf(x, N=N));\n",
    "plt.figure()\n",
    "plt.plot(x, (genmaxima_dist.pdf(x) - gev_WR_dist.pdf(x, N=N))/gev_WR_dist.pdf(x, N=N));\n",
    "plt.figure()\n",
    "plt.plot(x, (genmaxima_dist.cdf(x) - gev_WR_dist.cdf(x, N=N))/gev_WR_dist.cdf(x, N=N));"
   ]
  },
  {
   "cell_type": "code",
   "execution_count": null,
   "id": "e69578b2-296a-417f-bcb9-087ce130f3bc",
   "metadata": {},
   "outputs": [],
   "source": []
  }
 ],
 "metadata": {
  "kernelspec": {
   "display_name": "Python 3 (ipykernel)",
   "language": "python",
   "name": "python3"
  },
  "language_info": {
   "codemirror_mode": {
    "name": "ipython",
    "version": 3
   },
   "file_extension": ".py",
   "mimetype": "text/x-python",
   "name": "python",
   "nbconvert_exporter": "python",
   "pygments_lexer": "ipython3",
   "version": "3.9.13"
  }
 },
 "nbformat": 4,
 "nbformat_minor": 5
}
